{
  "nbformat": 4,
  "nbformat_minor": 0,
  "metadata": {
    "kernelspec": {
      "display_name": "Python 3",
      "language": "python",
      "name": "python3"
    },
    "language_info": {
      "codemirror_mode": {
        "name": "ipython",
        "version": 3
      },
      "file_extension": ".py",
      "mimetype": "text/x-python",
      "name": "python",
      "nbconvert_exporter": "python",
      "pygments_lexer": "ipython3",
      "version": "3.7.1"
    },
    "colab": {
      "name": "Coding Tutorial.ipynb",
      "provenance": [],
      "collapsed_sections": [],
      "include_colab_link": true
    }
  },
  "cells": [
    {
      "cell_type": "markdown",
      "metadata": {
        "id": "view-in-github",
        "colab_type": "text"
      },
      "source": [
        "<a href=\"https://colab.research.google.com/github/Ashish265/Tensorflow/blob/master/Coding_Tutorial.ipynb\" target=\"_parent\"><img src=\"https://colab.research.google.com/assets/colab-badge.svg\" alt=\"Open In Colab\"/></a>"
      ]
    },
    {
      "cell_type": "code",
      "metadata": {
        "id": "ug-wCIQwKoQi",
        "colab_type": "code",
        "colab": {}
      },
      "source": [
        "import tensorflow as tf\n",
        "tf.__version__"
      ],
      "execution_count": 0,
      "outputs": []
    },
    {
      "cell_type": "markdown",
      "metadata": {
        "id": "hjAm4T0gKoQp",
        "colab_type": "text"
      },
      "source": [
        "# Introduction to TensorFlow 2\n",
        "\n",
        "## Coding tutorials\n",
        "#### [1. Hello TensorFlow!](#coding_tutorial_1)"
      ]
    },
    {
      "cell_type": "markdown",
      "metadata": {
        "id": "0863r0BFKoQr",
        "colab_type": "text"
      },
      "source": [
        "---\n",
        "<a id='coding_tutorial_1'></a>\n",
        "## Hello TensorFlow!"
      ]
    },
    {
      "cell_type": "code",
      "metadata": {
        "id": "QwPuGPdYKoQs",
        "colab_type": "code",
        "colab": {}
      },
      "source": [
        "# Import TensorFlow\n",
        "\n",
        "import tensorflow as tf"
      ],
      "execution_count": 0,
      "outputs": []
    },
    {
      "cell_type": "code",
      "metadata": {
        "id": "R54pSSl0KoQw",
        "colab_type": "code",
        "colab": {
          "base_uri": "https://localhost:8080/",
          "height": 34
        },
        "outputId": "d210f4e3-3119-4384-a63b-466678efa97d"
      },
      "source": [
        "# Check its version\n",
        "\n",
        "print(tf.__version__)"
      ],
      "execution_count": 2,
      "outputs": [
        {
          "output_type": "stream",
          "text": [
            "2.2.0\n"
          ],
          "name": "stdout"
        }
      ]
    },
    {
      "cell_type": "code",
      "metadata": {
        "id": "3xaahw5pKoQz",
        "colab_type": "code",
        "colab": {
          "base_uri": "https://localhost:8080/",
          "height": 283
        },
        "outputId": "c0b050ee-c9be-4b98-d809-822c37589527"
      },
      "source": [
        "# Train a feedforward neural network for image classification\n",
        "\n",
        "print('Loading data...\\n')\n",
        "(x_train, y_train), (x_test, y_test) = tf.keras.datasets.mnist.load_data()\n",
        "print('MNIST dataset loaded.\\n')\n",
        "\n",
        "x_train = x_train/255.\n",
        "\n",
        "model = tf.keras.models.Sequential([\n",
        "  tf.keras.layers.Flatten(),\n",
        "  tf.keras.layers.Dense(16, activation='relu'),\n",
        "  tf.keras.layers.Dense(10, activation='softmax')\n",
        "])\n",
        "\n",
        "model.compile(optimizer='adam',\n",
        "              loss='sparse_categorical_crossentropy',\n",
        "              metrics=['accuracy'])\n",
        "\n",
        "print('Training model...\\n')\n",
        "model.fit(x_train, y_train, epochs=3, batch_size=32)\n",
        "\n",
        "print('Model trained successfully!')"
      ],
      "execution_count": 3,
      "outputs": [
        {
          "output_type": "stream",
          "text": [
            "Loading data...\n",
            "\n",
            "Downloading data from https://storage.googleapis.com/tensorflow/tf-keras-datasets/mnist.npz\n",
            "11493376/11490434 [==============================] - 0s 0us/step\n",
            "MNIST dataset loaded.\n",
            "\n",
            "Training model...\n",
            "\n",
            "Epoch 1/3\n",
            "1875/1875 [==============================] - 2s 1ms/step - loss: 0.4423 - accuracy: 0.8729\n",
            "Epoch 2/3\n",
            "1875/1875 [==============================] - 2s 1ms/step - loss: 0.2504 - accuracy: 0.9294\n",
            "Epoch 3/3\n",
            "1875/1875 [==============================] - 2s 1ms/step - loss: 0.2175 - accuracy: 0.9378\n",
            "Model trained successfully!\n"
          ],
          "name": "stdout"
        }
      ]
    },
    {
      "cell_type": "code",
      "metadata": {
        "id": "_LxlrHIAnaBE",
        "colab_type": "code",
        "colab": {}
      },
      "source": [
        ""
      ],
      "execution_count": 0,
      "outputs": []
    }
  ]
}