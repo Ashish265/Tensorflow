{
  "nbformat": 4,
  "nbformat_minor": 0,
  "metadata": {
    "colab": {
      "name": "Tensorflow Tutorial 7.ipynb",
      "version": "0.3.2",
      "provenance": []
    },
    "kernelspec": {
      "name": "python3",
      "display_name": "Python 3"
    }
  },
  "cells": [
    {
      "metadata": {
        "id": "nqjoxStvxHBs",
        "colab_type": "code",
        "colab": {}
      },
      "cell_type": "code",
      "source": [
        ""
      ],
      "execution_count": 0,
      "outputs": []
    },
    {
      "metadata": {
        "id": "uXpxIVpuxamR",
        "colab_type": "text"
      },
      "cell_type": "markdown",
      "source": [
        "# Deep Learning Using Tensorflow  "
      ]
    },
    {
      "metadata": {
        "id": "mtgFuyBlwUNI",
        "colab_type": "code",
        "colab": {}
      },
      "cell_type": "code",
      "source": [
        "import tensorflow as tf \n",
        "import pandas as pd\n",
        "import numpy as np\n",
        "import os\n",
        "import sys\n",
        "import datetime\n",
        "import matplotlib.pyplot as plt\n",
        "plt.style.use('ggplot')\n",
        "%matplotlib inline"
      ],
      "execution_count": 0,
      "outputs": []
    },
    {
      "metadata": {
        "id": "B7VeK0PXw_dV",
        "colab_type": "code",
        "colab": {
          "base_uri": "https://localhost:8080/",
          "height": 102
        },
        "outputId": "fdf2aa32-a795-4ef3-9ad7-803cfaf51de9"
      },
      "cell_type": "code",
      "source": [
        "print('Python version ' + sys.version)\n",
        "print('Tensorflow version ' + tf.VERSION)\n",
        "print('Pandas version ' + pd.__version__)\n",
        "print('Numpy version ' + np.__version__)"
      ],
      "execution_count": 4,
      "outputs": [
        {
          "output_type": "stream",
          "text": [
            "Python version 3.6.7 (default, Oct 22 2018, 11:32:17) \n",
            "[GCC 8.2.0]\n",
            "Tensorflow version 1.13.1\n",
            "Pandas version 0.22.0\n",
            "Numpy version 1.14.6\n"
          ],
          "name": "stdout"
        }
      ]
    },
    {
      "metadata": {
        "id": "t9gHdycTxtcg",
        "colab_type": "text"
      },
      "cell_type": "markdown",
      "source": [
        "# Function to model\n",
        "\n",
        "y = a * x^2 + b * x + c "
      ]
    },
    {
      "metadata": {
        "id": "aDHVMMyXxieJ",
        "colab_type": "code",
        "colab": {
          "base_uri": "https://localhost:8080/",
          "height": 51
        },
        "outputId": "c82da92c-2af4-4e09-88a2-bb591012b702"
      },
      "cell_type": "code",
      "source": [
        "# Let's generate 1000 random samples\n",
        "\n",
        "pool = np.random.rand(1000,1).astype(np.float32)\n",
        "\n",
        "\n",
        "# Shuffle the samples\n",
        "np.random.shuffle(pool)\n",
        "\n",
        "# sample size of 15%\n",
        "sample = int(1000*0.15)\n",
        "\n",
        "# 15% test\n",
        "test_x  = pool[0:sample]\n",
        "\n",
        "#85% training\n",
        "train_x = pool[sample:]\n",
        "\n",
        "print('Testing data points: ' + str(test_x.shape))\n",
        "print('Training data points: ' + str(train_x.shape))\n",
        "\n",
        "# Let's compute the ouput using 2 for a, 3 for b, and 5 for c\n",
        "test_y = 2.0 * test_x**2 + 3.0 * test_x + 5\n",
        "train_y = 2.0 * train_x**2 + 3.0 * train_x + 5"
      ],
      "execution_count": 8,
      "outputs": [
        {
          "output_type": "stream",
          "text": [
            "Testing data points: (150, 1)\n",
            "Training data points: (850, 1)\n"
          ],
          "name": "stdout"
        }
      ]
    },
    {
      "metadata": {
        "id": "RtRmTkkQxqCK",
        "colab_type": "code",
        "colab": {
          "base_uri": "https://localhost:8080/",
          "height": 204
        },
        "outputId": "1cc78e29-f3a8-43b0-8638-6e9ec6a42272"
      },
      "cell_type": "code",
      "source": [
        "df = pd.DataFrame({'x':train_x[:,0],\n",
        "                   'y':train_y[:,0]})\n",
        "df.head()"
      ],
      "execution_count": 9,
      "outputs": [
        {
          "output_type": "execute_result",
          "data": {
            "text/html": [
              "<div>\n",
              "<style scoped>\n",
              "    .dataframe tbody tr th:only-of-type {\n",
              "        vertical-align: middle;\n",
              "    }\n",
              "\n",
              "    .dataframe tbody tr th {\n",
              "        vertical-align: top;\n",
              "    }\n",
              "\n",
              "    .dataframe thead th {\n",
              "        text-align: right;\n",
              "    }\n",
              "</style>\n",
              "<table border=\"1\" class=\"dataframe\">\n",
              "  <thead>\n",
              "    <tr style=\"text-align: right;\">\n",
              "      <th></th>\n",
              "      <th>x</th>\n",
              "      <th>y</th>\n",
              "    </tr>\n",
              "  </thead>\n",
              "  <tbody>\n",
              "    <tr>\n",
              "      <th>0</th>\n",
              "      <td>0.534010</td>\n",
              "      <td>7.172362</td>\n",
              "    </tr>\n",
              "    <tr>\n",
              "      <th>1</th>\n",
              "      <td>0.217926</td>\n",
              "      <td>5.748762</td>\n",
              "    </tr>\n",
              "    <tr>\n",
              "      <th>2</th>\n",
              "      <td>0.188820</td>\n",
              "      <td>5.637765</td>\n",
              "    </tr>\n",
              "    <tr>\n",
              "      <th>3</th>\n",
              "      <td>0.059280</td>\n",
              "      <td>5.184869</td>\n",
              "    </tr>\n",
              "    <tr>\n",
              "      <th>4</th>\n",
              "      <td>0.701199</td>\n",
              "      <td>8.086959</td>\n",
              "    </tr>\n",
              "  </tbody>\n",
              "</table>\n",
              "</div>"
            ],
            "text/plain": [
              "          x         y\n",
              "0  0.534010  7.172362\n",
              "1  0.217926  5.748762\n",
              "2  0.188820  5.637765\n",
              "3  0.059280  5.184869\n",
              "4  0.701199  8.086959"
            ]
          },
          "metadata": {
            "tags": []
          },
          "execution_count": 9
        }
      ]
    },
    {
      "metadata": {
        "id": "QyOMSXiEy3D3",
        "colab_type": "code",
        "colab": {
          "base_uri": "https://localhost:8080/",
          "height": 297
        },
        "outputId": "3807db87-b3f6-4151-c509-155515eeefec"
      },
      "cell_type": "code",
      "source": [
        "df.describe()"
      ],
      "execution_count": 10,
      "outputs": [
        {
          "output_type": "execute_result",
          "data": {
            "text/html": [
              "<div>\n",
              "<style scoped>\n",
              "    .dataframe tbody tr th:only-of-type {\n",
              "        vertical-align: middle;\n",
              "    }\n",
              "\n",
              "    .dataframe tbody tr th {\n",
              "        vertical-align: top;\n",
              "    }\n",
              "\n",
              "    .dataframe thead th {\n",
              "        text-align: right;\n",
              "    }\n",
              "</style>\n",
              "<table border=\"1\" class=\"dataframe\">\n",
              "  <thead>\n",
              "    <tr style=\"text-align: right;\">\n",
              "      <th></th>\n",
              "      <th>x</th>\n",
              "      <th>y</th>\n",
              "    </tr>\n",
              "  </thead>\n",
              "  <tbody>\n",
              "    <tr>\n",
              "      <th>count</th>\n",
              "      <td>850.000000</td>\n",
              "      <td>850.000000</td>\n",
              "    </tr>\n",
              "    <tr>\n",
              "      <th>mean</th>\n",
              "      <td>0.483364</td>\n",
              "      <td>7.078678</td>\n",
              "    </tr>\n",
              "    <tr>\n",
              "      <th>std</th>\n",
              "      <td>0.284161</td>\n",
              "      <td>1.415480</td>\n",
              "    </tr>\n",
              "    <tr>\n",
              "      <th>min</th>\n",
              "      <td>0.000921</td>\n",
              "      <td>5.002765</td>\n",
              "    </tr>\n",
              "    <tr>\n",
              "      <th>25%</th>\n",
              "      <td>0.240188</td>\n",
              "      <td>5.835945</td>\n",
              "    </tr>\n",
              "    <tr>\n",
              "      <th>50%</th>\n",
              "      <td>0.481200</td>\n",
              "      <td>6.906705</td>\n",
              "    </tr>\n",
              "    <tr>\n",
              "      <th>75%</th>\n",
              "      <td>0.730796</td>\n",
              "      <td>8.260517</td>\n",
              "    </tr>\n",
              "    <tr>\n",
              "      <th>max</th>\n",
              "      <td>0.996712</td>\n",
              "      <td>9.977005</td>\n",
              "    </tr>\n",
              "  </tbody>\n",
              "</table>\n",
              "</div>"
            ],
            "text/plain": [
              "                x           y\n",
              "count  850.000000  850.000000\n",
              "mean     0.483364    7.078678\n",
              "std      0.284161    1.415480\n",
              "min      0.000921    5.002765\n",
              "25%      0.240188    5.835945\n",
              "50%      0.481200    6.906705\n",
              "75%      0.730796    8.260517\n",
              "max      0.996712    9.977005"
            ]
          },
          "metadata": {
            "tags": []
          },
          "execution_count": 10
        }
      ]
    },
    {
      "metadata": {
        "id": "a_bz8Wmxy43z",
        "colab_type": "code",
        "colab": {
          "base_uri": "https://localhost:8080/",
          "height": 336
        },
        "outputId": "b65796f6-ad16-4426-ad9f-092bbc40380a"
      },
      "cell_type": "code",
      "source": [
        "df.plot.scatter(x='x', y='y', figsize=(15,5));"
      ],
      "execution_count": 11,
      "outputs": [
        {
          "output_type": "display_data",
          "data": {
            "image/png": "[encoded data removed]",
            "text/plain": [
              "<Figure size 1080x360 with 1 Axes>"
            ]
          },
          "metadata": {
            "tags": []
          }
        }
      ]
    },
    {
      "metadata": {
        "id": "OFdQWsbHy_Mw",
        "colab_type": "text"
      },
      "cell_type": "markdown",
      "source": [
        "# Helper Functions"
      ]
    },
    {
      "metadata": {
        "id": "aDSqt1D2y7rS",
        "colab_type": "code",
        "colab": {}
      },
      "cell_type": "code",
      "source": [
        "def add_layer(inputs, in_size, out_size, activation_function=None):\n",
        "    \n",
        "    # tf.random_normal([what is the size of your batches, size of output layer])\n",
        "    Weights = tf.Variable(tf.truncated_normal([in_size, out_size], mean=0.1, stddev=0.1))\n",
        "    \n",
        "    # tf.random_normal([size of output layer])\n",
        "    biases = tf.Variable(tf.truncated_normal([out_size], mean=0.1, stddev=0.1))\n",
        "    \n",
        "    # shape of pred = [size of your batches, size of output layer]\n",
        "    pred = tf.matmul(inputs, Weights) + biases\n",
        "\n",
        "    if activation_function is None:\n",
        "        outputs = pred\n",
        "    else:\n",
        "        outputs = activation_function(pred)\n",
        "    return outputs\n",
        "  "
      ],
      "execution_count": 0,
      "outputs": []
    },
    {
      "metadata": {
        "id": "zMPPzSwOzjXx",
        "colab_type": "text"
      },
      "cell_type": "markdown",
      "source": [
        "# Model your Graph\n",
        "\n",
        "Start to use W (for weight) and b (for bias) when setting up your variables. Aside from adding your ReLU activation function, it is a good idea to use Tensorflow's matrix multiplication function (matmul) as shown below.\n",
        "\n",
        "      The ? in the shape output just means it can be of any shape.\n",
        "\n",
        "For the shape parameter, you can think of it like this...\n",
        "\n",
        "    shape = [how many data points do you have, how many features does each data point have]\n",
        "\n",
        "For this lesson since we are doing a simple regression, we only have one feature (x). We use the None keyword so that we are not restricted on the number of samples to feed our model. This will become more important when you learn about training using batches on a future lesson."
      ]
    },
    {
      "metadata": {
        "id": "mDvySIe5zgkl",
        "colab_type": "code",
        "colab": {
          "base_uri": "https://localhost:8080/",
          "height": 51
        },
        "outputId": "968e2daf-44ac-45e2-e97e-3eaf202292db"
      },
      "cell_type": "code",
      "source": [
        "# you can adjust the number of neurons in the hidden layers here\n",
        "hidden_size = 100\n",
        "\n",
        "# placeholders\n",
        "# shape=[how many samples do you have, how many input neurons]\n",
        "x = tf.placeholder(tf.float32, shape=[None, 1], name=\"01_x\")\n",
        "y = tf.placeholder(tf.float32, shape=[None, 1], name=\"01_y\")\n",
        "\n",
        "print(\"shape of x and y:\")\n",
        "print(x.get_shape(),y.get_shape())"
      ],
      "execution_count": 13,
      "outputs": [
        {
          "output_type": "stream",
          "text": [
            "shape of x and y:\n",
            "(?, 1) (?, 1)\n"
          ],
          "name": "stdout"
        }
      ]
    },
    {
      "metadata": {
        "id": "5wcT41qiz8ot",
        "colab_type": "text"
      },
      "cell_type": "markdown",
      "source": [
        "Note that the input of one layer becomes the input of the next layer."
      ]
    },
    {
      "metadata": {
        "id": "PHLRkLSBzwkv",
        "colab_type": "code",
        "colab": {
          "base_uri": "https://localhost:8080/",
          "height": 122
        },
        "outputId": "b66c1857-d243-4740-fd68-106e4901d34d"
      },
      "cell_type": "code",
      "source": [
        "# create your hidden layers!\n",
        "h1 = add_layer(x, 1, hidden_size, tf.nn.relu)\n",
        "h2 = add_layer(h1, hidden_size, hidden_size, tf.nn.relu)\n",
        "\n",
        "print(\"shape of hidden layers:\")\n",
        "print(h1.get_shape(), h2.get_shape())"
      ],
      "execution_count": 14,
      "outputs": [
        {
          "output_type": "stream",
          "text": [
            "WARNING:tensorflow:From /usr/local/lib/python3.6/dist-packages/tensorflow/python/framework/op_def_library.py:263: colocate_with (from tensorflow.python.framework.ops) is deprecated and will be removed in a future version.\n",
            "Instructions for updating:\n",
            "Colocations handled automatically by placer.\n",
            "shape of hidden layers:\n",
            "(?, 100) (?, 100)\n"
          ],
          "name": "stdout"
        }
      ]
    },
    {
      "metadata": {
        "id": "asKHl7QHz-8p",
        "colab_type": "code",
        "colab": {
          "base_uri": "https://localhost:8080/",
          "height": 51
        },
        "outputId": "0df5e079-cb88-4c61-94fc-3dd75c2d31bb"
      },
      "cell_type": "code",
      "source": [
        "# Output Layers\n",
        "pred = add_layer(h2, hidden_size, 1)\n",
        "\n",
        "print(\"shape of output layer:\")\n",
        "print(pred.get_shape())"
      ],
      "execution_count": 15,
      "outputs": [
        {
          "output_type": "stream",
          "text": [
            "shape of output layer:\n",
            "(?, 1)\n"
          ],
          "name": "stdout"
        }
      ]
    },
    {
      "metadata": {
        "id": "HDCX8nrH0Os5",
        "colab_type": "code",
        "colab": {}
      },
      "cell_type": "code",
      "source": [
        "# minimize the mean squared errors.\n",
        "loss = tf.reduce_mean(tf.square(pred - y))\n",
        "\n",
        "# pick optimizer\n",
        "optimizer = tf.train.GradientDescentOptimizer(0.003)\n",
        "train = optimizer.minimize(loss)"
      ],
      "execution_count": 0,
      "outputs": []
    },
    {
      "metadata": {
        "id": "2J4t3-7k0dsu",
        "colab_type": "text"
      },
      "cell_type": "markdown",
      "source": [
        "# How Good is Your model?\n",
        "Set up the following variables to calculate the accuracy rate of your model. You will do that shortly."
      ]
    },
    {
      "metadata": {
        "id": "mCMI-Xw-0Q13",
        "colab_type": "code",
        "colab": {}
      },
      "cell_type": "code",
      "source": [
        "# check accuracy of model\n",
        "correct_prediction = tf.equal(tf.round(pred), tf.round(y))\n",
        "accuracy = tf.reduce_mean(tf.cast(correct_prediction, tf.float32))"
      ],
      "execution_count": 0,
      "outputs": []
    },
    {
      "metadata": {
        "id": "teiHG5dB0us4",
        "colab_type": "text"
      },
      "cell_type": "markdown",
      "source": [
        "# Training Time!"
      ]
    },
    {
      "metadata": {
        "id": "S8njqkML0jHi",
        "colab_type": "code",
        "colab": {
          "base_uri": "https://localhost:8080/",
          "height": 306
        },
        "outputId": "1fa7f519-d4d1-4fee-8c33-815ff00f76e0"
      },
      "cell_type": "code",
      "source": [
        "# initialize the variables\n",
        "init = tf.global_variables_initializer()\n",
        "\n",
        "# hold step and error values\n",
        "t = []\n",
        "\n",
        "# Run your graph\n",
        "with tf.Session() as sess:\n",
        "    \n",
        "    # initialize variables\n",
        "    sess.run(init)\n",
        "\n",
        "    # Fit the function.\n",
        "    for step in range(3000):\n",
        "\n",
        "        # get your data\n",
        "        train_data = {x:train_x, y:train_y}\n",
        "        test_data = {x:test_x, y:test_y}\n",
        "        \n",
        "        # training in progress...\n",
        "        train_loss, train_pred = sess.run([loss, train], feed_dict=train_data)        \n",
        "        \n",
        "        # print every n iterations\n",
        "        if step%200==0:\n",
        "           \n",
        "            # capture the step and error for analysis\n",
        "            t.append((step, train_loss))    \n",
        "            \n",
        "            # get snapshot of current training accuracy       \n",
        "            train_acc = accuracy.eval(train_data)            \n",
        "                \n",
        "            print(\"Training loss at step %d: %f\" % (step, train_loss))                              \n",
        "            \n",
        "    # here is where you see how good of a Data Scientist you are        \n",
        "    print(\"Accuracy on the Training Set:\", accuracy.eval(train_data) )\n",
        "    print(\"Accuracy on the Test Set:\", accuracy.eval(test_data) )\n",
        "    \n",
        "    # capture predictions on test data \n",
        "    test_results = sess.run(pred, feed_dict={x:test_x})  \n",
        "    df_final = pd.DataFrame({'test_x':test_x[:,0],\n",
        "                             'pred':test_results[:,0]})\n",
        "    \n",
        "    # capture training and validation loss\n",
        "    df_loss = pd.DataFrame(t, columns=['step', 'train_loss'])  "
      ],
      "execution_count": 18,
      "outputs": [
        {
          "output_type": "stream",
          "text": [
            "Training loss at step 0: 138.290222\n",
            "Training loss at step 200: 0.000875\n",
            "Training loss at step 400: 0.000634\n",
            "Training loss at step 600: 0.000536\n",
            "Training loss at step 800: 0.000482\n",
            "Training loss at step 1000: 0.000442\n",
            "Training loss at step 1200: 0.000409\n",
            "Training loss at step 1400: 0.000380\n",
            "Training loss at step 1600: 0.000354\n",
            "Training loss at step 1800: 0.000332\n",
            "Training loss at step 2000: 0.000312\n",
            "Training loss at step 2200: 0.000295\n",
            "Training loss at step 2400: 0.000279\n",
            "Training loss at step 2600: 0.000265\n",
            "Training loss at step 2800: 0.000251\n",
            "Accuracy on the Training Set: 0.9917647\n",
            "Accuracy on the Test Set: 0.99333334\n"
          ],
          "name": "stdout"
        }
      ]
    },
    {
      "metadata": {
        "id": "-t6tiXv50yIw",
        "colab_type": "code",
        "colab": {
          "base_uri": "https://localhost:8080/",
          "height": 359
        },
        "outputId": "9f182212-567c-4e5e-9a71-ecbbd4a57f98"
      },
      "cell_type": "code",
      "source": [
        "fig, axes = plt.subplots(nrows=1, ncols=1, figsize=(15, 5))\n",
        "\n",
        "# Chart 1 - Shows the line we are trying to model\n",
        "df.plot.scatter(x='x', y='y', ax=axes, color='red')\n",
        "\n",
        "# Chart 2 - Shows the line our trained model came up with\n",
        "df_final.plot.scatter(x='test_x', y='pred', ax=axes, alpha=0.3)\n",
        "\n",
        "# add a little sugar\n",
        "axes.set_title('target vs pred', fontsize=20)\n",
        "axes.set_ylabel('y', fontsize=15)\n",
        "axes.set_xlabel('x', fontsize=15)\n",
        "axes.legend([\"target\", \"pred\"], loc='best');"
      ],
      "execution_count": 19,
      "outputs": [
        {
          "output_type": "display_data",
          "data": {
            "image/png": "[encoded data removed]",
            "text/plain": [
              "<Figure size 1080x360 with 1 Axes>"
            ]
          },
          "metadata": {
            "tags": []
          }
        }
      ]
    },
    {
      "metadata": {
        "id": "kRclmupX05_P",
        "colab_type": "code",
        "colab": {
          "base_uri": "https://localhost:8080/",
          "height": 336
        },
        "outputId": "b4f764db-3807-4452-cdbf-e6d9b2830102"
      },
      "cell_type": "code",
      "source": [
        "df_loss.set_index('step').plot(logy=True, figsize=(15,5));\n"
      ],
      "execution_count": 20,
      "outputs": [
        {
          "output_type": "display_data",
          "data": {
            "image/png": "[encoded data removed]",
            "text/plain": [
              "<Figure size 1080x360 with 1 Axes>"
            ]
          },
          "metadata": {
            "tags": []
          }
        }
      ]
    },
    {
      "metadata": {
        "id": "lGhp9Rn8098y",
        "colab_type": "code",
        "colab": {}
      },
      "cell_type": "code",
      "source": [
        ""
      ],
      "execution_count": 0,
      "outputs": []
    }
  ]
}